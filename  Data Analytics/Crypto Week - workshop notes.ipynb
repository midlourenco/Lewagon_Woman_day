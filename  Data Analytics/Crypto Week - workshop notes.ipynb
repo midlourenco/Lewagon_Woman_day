{
 "cells": [
  {
   "cell_type": "markdown",
   "id": "4341cd66",
   "metadata": {},
   "source": [
    "# Workshop Notes"
   ]
  },
  {
   "cell_type": "code",
   "execution_count": 1,
   "id": "07c27e92",
   "metadata": {},
   "outputs": [],
   "source": [
    "import pandas as pd"
   ]
  },
  {
   "cell_type": "code",
   "execution_count": 5,
   "id": "f863e610",
   "metadata": {},
   "outputs": [],
   "source": [
    "data=pd.read_csv(\"btc-usd-max.csv\")"
   ]
  },
  {
   "cell_type": "code",
   "execution_count": 6,
   "id": "8d574de3",
   "metadata": {},
   "outputs": [
    {
     "data": {
      "text/html": [
       "<div>\n",
       "<style scoped>\n",
       "    .dataframe tbody tr th:only-of-type {\n",
       "        vertical-align: middle;\n",
       "    }\n",
       "\n",
       "    .dataframe tbody tr th {\n",
       "        vertical-align: top;\n",
       "    }\n",
       "\n",
       "    .dataframe thead th {\n",
       "        text-align: right;\n",
       "    }\n",
       "</style>\n",
       "<table border=\"1\" class=\"dataframe\">\n",
       "  <thead>\n",
       "    <tr style=\"text-align: right;\">\n",
       "      <th></th>\n",
       "      <th>snapped_at</th>\n",
       "      <th>price</th>\n",
       "      <th>market_cap</th>\n",
       "      <th>total_volume</th>\n",
       "    </tr>\n",
       "  </thead>\n",
       "  <tbody>\n",
       "    <tr>\n",
       "      <th>0</th>\n",
       "      <td>2013-04-28 00:00:00 UTC</td>\n",
       "      <td>135.300000</td>\n",
       "      <td>1.500518e+09</td>\n",
       "      <td>0.000000e+00</td>\n",
       "    </tr>\n",
       "    <tr>\n",
       "      <th>1</th>\n",
       "      <td>2013-04-29 00:00:00 UTC</td>\n",
       "      <td>141.960000</td>\n",
       "      <td>1.575032e+09</td>\n",
       "      <td>0.000000e+00</td>\n",
       "    </tr>\n",
       "    <tr>\n",
       "      <th>2</th>\n",
       "      <td>2013-04-30 00:00:00 UTC</td>\n",
       "      <td>135.300000</td>\n",
       "      <td>1.501657e+09</td>\n",
       "      <td>0.000000e+00</td>\n",
       "    </tr>\n",
       "    <tr>\n",
       "      <th>3</th>\n",
       "      <td>2013-05-01 00:00:00 UTC</td>\n",
       "      <td>117.000000</td>\n",
       "      <td>1.298952e+09</td>\n",
       "      <td>0.000000e+00</td>\n",
       "    </tr>\n",
       "    <tr>\n",
       "      <th>4</th>\n",
       "      <td>2013-05-02 00:00:00 UTC</td>\n",
       "      <td>103.430000</td>\n",
       "      <td>1.148668e+09</td>\n",
       "      <td>0.000000e+00</td>\n",
       "    </tr>\n",
       "    <tr>\n",
       "      <th>...</th>\n",
       "      <td>...</td>\n",
       "      <td>...</td>\n",
       "      <td>...</td>\n",
       "      <td>...</td>\n",
       "    </tr>\n",
       "    <tr>\n",
       "      <th>3054</th>\n",
       "      <td>2021-09-09 00:00:00 UTC</td>\n",
       "      <td>46085.028616</td>\n",
       "      <td>8.668859e+11</td>\n",
       "      <td>4.815110e+10</td>\n",
       "    </tr>\n",
       "    <tr>\n",
       "      <th>3055</th>\n",
       "      <td>2021-09-10 00:00:00 UTC</td>\n",
       "      <td>46518.941187</td>\n",
       "      <td>8.761793e+11</td>\n",
       "      <td>3.858109e+10</td>\n",
       "    </tr>\n",
       "    <tr>\n",
       "      <th>3056</th>\n",
       "      <td>2021-09-11 00:00:00 UTC</td>\n",
       "      <td>44802.606402</td>\n",
       "      <td>8.422226e+11</td>\n",
       "      <td>3.805199e+10</td>\n",
       "    </tr>\n",
       "    <tr>\n",
       "      <th>3057</th>\n",
       "      <td>2021-09-12 00:00:00 UTC</td>\n",
       "      <td>45196.488278</td>\n",
       "      <td>8.498282e+11</td>\n",
       "      <td>3.416028e+10</td>\n",
       "    </tr>\n",
       "    <tr>\n",
       "      <th>3058</th>\n",
       "      <td>2021-09-13 00:00:00 UTC</td>\n",
       "      <td>46195.218301</td>\n",
       "      <td>8.691226e+11</td>\n",
       "      <td>2.758586e+10</td>\n",
       "    </tr>\n",
       "  </tbody>\n",
       "</table>\n",
       "<p>3059 rows × 4 columns</p>\n",
       "</div>"
      ],
      "text/plain": [
       "                   snapped_at         price    market_cap  total_volume\n",
       "0     2013-04-28 00:00:00 UTC    135.300000  1.500518e+09  0.000000e+00\n",
       "1     2013-04-29 00:00:00 UTC    141.960000  1.575032e+09  0.000000e+00\n",
       "2     2013-04-30 00:00:00 UTC    135.300000  1.501657e+09  0.000000e+00\n",
       "3     2013-05-01 00:00:00 UTC    117.000000  1.298952e+09  0.000000e+00\n",
       "4     2013-05-02 00:00:00 UTC    103.430000  1.148668e+09  0.000000e+00\n",
       "...                       ...           ...           ...           ...\n",
       "3054  2021-09-09 00:00:00 UTC  46085.028616  8.668859e+11  4.815110e+10\n",
       "3055  2021-09-10 00:00:00 UTC  46518.941187  8.761793e+11  3.858109e+10\n",
       "3056  2021-09-11 00:00:00 UTC  44802.606402  8.422226e+11  3.805199e+10\n",
       "3057  2021-09-12 00:00:00 UTC  45196.488278  8.498282e+11  3.416028e+10\n",
       "3058  2021-09-13 00:00:00 UTC  46195.218301  8.691226e+11  2.758586e+10\n",
       "\n",
       "[3059 rows x 4 columns]"
      ]
     },
     "execution_count": 6,
     "metadata": {},
     "output_type": "execute_result"
    }
   ],
   "source": [
    "data"
   ]
  },
  {
   "cell_type": "code",
   "execution_count": 10,
   "id": "ff15eb3b",
   "metadata": {},
   "outputs": [
    {
     "name": "stdout",
     "output_type": "stream",
     "text": [
      "<class 'pandas.core.frame.DataFrame'>\n",
      "RangeIndex: 3059 entries, 0 to 3058\n",
      "Data columns (total 4 columns):\n",
      " #   Column        Non-Null Count  Dtype  \n",
      "---  ------        --------------  -----  \n",
      " 0   snapped_at    3059 non-null   object \n",
      " 1   price         3059 non-null   float64\n",
      " 2   market_cap    3058 non-null   float64\n",
      " 3   total_volume  3059 non-null   float64\n",
      "dtypes: float64(3), object(1)\n",
      "memory usage: 95.7+ KB\n"
     ]
    }
   ],
   "source": [
    "data.info()"
   ]
  },
  {
   "cell_type": "code",
   "execution_count": 12,
   "id": "d19e5c16",
   "metadata": {},
   "outputs": [
    {
     "data": {
      "text/plain": [
       "snapped_at      0\n",
       "price           0\n",
       "market_cap      1\n",
       "total_volume    0\n",
       "dtype: int64"
      ]
     },
     "execution_count": 12,
     "metadata": {},
     "output_type": "execute_result"
    }
   ],
   "source": [
    "data.isnull().sum()"
   ]
  },
  {
   "cell_type": "code",
   "execution_count": 13,
   "id": "31663bed",
   "metadata": {},
   "outputs": [],
   "source": [
    "#to drop columns()"
   ]
  },
  {
   "cell_type": "code",
   "execution_count": null,
   "id": "c700d457",
   "metadata": {},
   "outputs": [],
   "source": []
  }
 ],
 "metadata": {
  "kernelspec": {
   "display_name": "Python 3",
   "language": "python",
   "name": "python3"
  },
  "language_info": {
   "codemirror_mode": {
    "name": "ipython",
    "version": 3
   },
   "file_extension": ".py",
   "mimetype": "text/x-python",
   "name": "python",
   "nbconvert_exporter": "python",
   "pygments_lexer": "ipython3",
   "version": "3.8.8"
  },
  "toc": {
   "base_numbering": 1,
   "nav_menu": {},
   "number_sections": true,
   "sideBar": true,
   "skip_h1_title": true,
   "title_cell": "Table of Contents",
   "title_sidebar": "Contents",
   "toc_cell": false,
   "toc_position": {},
   "toc_section_display": true,
   "toc_window_display": false
  }
 },
 "nbformat": 4,
 "nbformat_minor": 5
}
