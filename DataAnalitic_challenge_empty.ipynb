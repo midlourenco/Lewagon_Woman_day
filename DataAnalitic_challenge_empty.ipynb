{
 "cells": [
  {
   "cell_type": "markdown",
   "metadata": {},
   "source": [
    "# Data Analytics - Challenge\n"
   ]
  },
  {
   "cell_type": "markdown",
   "metadata": {},
   "source": [
    "The goal of this challenge is to analyze a restaurant invoices. Some celles are already implemented, you just need to **run** them. Some other cells need you to write some code.\n",
    "\n",
    "Start the challenge by running the two following cells:"
   ]
  },
  {
   "cell_type": "code",
   "execution_count": null,
   "metadata": {},
   "outputs": [],
   "source": [
    "import pandas as pd\n",
    "import seaborn as sns\n",
    "import matplotlib.pyplot as plt"
   ]
  },
  {
   "cell_type": "code",
   "execution_count": null,
   "metadata": {},
   "outputs": [],
   "source": [
    "tips_df = pd.read_csv(\"https://raw.githubusercontent.com/mwaskom/seaborn-data/master/tips.csv\")"
   ]
  },
  {
   "cell_type": "markdown",
   "metadata": {},
   "source": [
    "---\n",
    "\n",
    "❓ Display the 10 first rows of the dataset (no need to sort)\n",
    "\n",
    "<details>\n",
    "    <summary>🙈 Reveal solution</summary>\n",
    "\n",
    "<p>\n",
    "You can use the <a href=\"https://pandas.pydata.org/pandas-docs/stable/reference/api/pandas.DataFrame.head.html\"><code>pandas.DataFrame.head()</code></a> function:\n",
    "    \n",
    "<pre>\n",
    "tips_df.head(10)\n",
    "</pre>\n",
    "</p>\n",
    "</details>"
   ]
  },
  {
   "cell_type": "code",
   "execution_count": null,
   "metadata": {},
   "outputs": [],
   "source": [
    "# Your code here"
   ]
  },
  {
   "cell_type": "markdown",
   "metadata": {},
   "source": [
    "---\n",
    "\n",
    "❓ How many days per week is the restaurant open?\n",
    "\n",
    "<details>\n",
    "    <summary>🙈 Reveal solution</summary>\n",
    "\n",
    "<p>\n",
    "You can use the <a href=\"https://pandas.pydata.org/pandas-docs/stable/reference/api/pandas.Series.unique.html\"><code>pandas.Series.unique()</code></a> function combiend with the <code>len()</code> Python built-in.\n",
    "    \n",
    "<pre>\n",
    "len(tips_df['day'].unique())\n",
    "</pre>\n",
    "</p>\n",
    "</details>"
   ]
  },
  {
   "cell_type": "code",
   "execution_count": null,
   "metadata": {},
   "outputs": [],
   "source": [
    "# Your code here"
   ]
  },
  {
   "cell_type": "markdown",
   "metadata": {},
   "source": [
    "---\n",
    "\n",
    "❓ What day of the week is there more bills? Plot this with a Seaborn Countplot.\n",
    "\n",
    "<details>\n",
    "    <summary>🙈 Reveal solution</summary>\n",
    "\n",
    "<p>\n",
    "<pre>\n",
    "tips_df['day'].value_counts()\n",
    "</pre>\n",
    "    \n",
    "<pre>\n",
    "sns.countplot(data=tips_df, x='day', order=['Thur', 'Fri', 'Sat', 'Sun'])\n",
    "</pre>\n",
    "</p>\n",
    "</details>"
   ]
  },
  {
   "cell_type": "code",
   "execution_count": null,
   "metadata": {},
   "outputs": [],
   "source": [
    "# Your code here"
   ]
  },
  {
   "cell_type": "code",
   "execution_count": null,
   "metadata": {},
   "outputs": [],
   "source": [
    "# Your plot here"
   ]
  },
  {
   "cell_type": "markdown",
   "metadata": {},
   "source": [
    "---\n",
    "\n",
    "❓ Try to do some other countplots, varying `x` with one of the categorical column (`sex`, `smoker`, `time`)"
   ]
  },
  {
   "cell_type": "code",
   "execution_count": null,
   "metadata": {},
   "outputs": [],
   "source": [
    "# Your first plot here\n",
    "# To add a cell, you can go in the menu and do Insert > Insert cell below"
   ]
  },
  {
   "cell_type": "markdown",
   "metadata": {},
   "source": [
    "---\n",
    "❓ Let's plot the distribution of `total_bill` based on a given category. Start with `day`:\n",
    "\n",
    "```python\n",
    "sns.catplot(data=tips_df, x='day', y='total_bill', kind=\"box\")\n",
    "```\n",
    "\n",
    "1. Change the value of `x` with one of the categorical column of the dataset and the value of `kind` (`\"bar\"`, `\"box\"`, `\"violin\"`, `\"boxen\"`)\n",
    "1. Change the value of `y` with one of the numerical column of the dataset"
   ]
  },
  {
   "cell_type": "code",
   "execution_count": null,
   "metadata": {},
   "outputs": [],
   "source": [
    "# Your experiments here"
   ]
  },
  {
   "cell_type": "markdown",
   "metadata": {},
   "source": [
    "---\n",
    "❓ Let's use [`seaborn.FacetGrid`](https://seaborn.pydata.org/generated/seaborn.FacetGrid.html)\n",
    "\n",
    "1. Run the cell below. What do you observe?\n",
    "2. Change `col` in the first line with another column (e.g. `\"time\"`). Run the cell again. What do you observe?"
   ]
  },
  {
   "cell_type": "code",
   "execution_count": null,
   "metadata": {},
   "outputs": [],
   "source": [
    "g = sns.FacetGrid(tips_df, col=\"day\")\n",
    "g.map(plt.hist, \"total_bill\")"
   ]
  },
  {
   "cell_type": "markdown",
   "metadata": {},
   "source": [
    "---\n",
    "❓ Let's continue with FacetGrid and add a `row=\"smoker\"` parameter. How many cells do you get in the plot?\n",
    "\n",
    "<details>\n",
    "    <summary>🙈 Reveal solution</summary>\n",
    "\n",
    "You get 2 * 4 = 8 cells!\n",
    "    \n",
    "<pre>\n",
    "g = sns.FacetGrid(tips_df, col=\"day\", row=\"smoker\")\n",
    "g.map(plt.hist, \"total_bill\")\n",
    "</pre>\n",
    "</p>\n",
    "</details>"
   ]
  },
  {
   "cell_type": "code",
   "execution_count": null,
   "metadata": {},
   "outputs": [],
   "source": [
    "# Your code here"
   ]
  },
  {
   "cell_type": "markdown",
   "metadata": {},
   "source": [
    "## Correlation\n",
    "\n",
    "Let's start looking for correlation between columns in the dataset.\n"
   ]
  },
  {
   "cell_type": "markdown",
   "metadata": {},
   "source": [
    "---\n",
    "❓ What is your intuition about the relationship between the columns `tip` and `total_bill`?"
   ]
  },
  {
   "cell_type": "markdown",
   "metadata": {},
   "source": [
    "---\n",
    "❓ Let's look at the data to see if our intuition is correct. We will do a **scatterplot** with `x` being `total_bill` and `y` the tip."
   ]
  },
  {
   "cell_type": "code",
   "execution_count": null,
   "metadata": {},
   "outputs": [],
   "source": [
    "with sns.axes_style(style=\"whitegrid\"):\n",
    "    sns.relplot(x=\"total_bill\", y=\"tip\", data=tips_df)"
   ]
  },
  {
   "cell_type": "markdown",
   "metadata": {},
   "source": [
    "---\n",
    "❓ Another way of looking at this data is to use a [`seaborn.jointplot`](https://seaborn.pydata.org/generated/seaborn.jointplot.html)."
   ]
  },
  {
   "cell_type": "code",
   "execution_count": null,
   "metadata": {},
   "outputs": [],
   "source": [
    "with sns.axes_style(\"white\"):\n",
    "    sns.jointplot(x=\"total_bill\", y=\"tip\", kind=\"hex\", data=tips_df)"
   ]
  },
  {
   "cell_type": "markdown",
   "metadata": {},
   "source": [
    "❓ A very useful tool to **identify** correlations is the [`seaborn.pairplot`](https://seaborn.pydata.org/generated/seaborn.pairplot.html):"
   ]
  },
  {
   "cell_type": "code",
   "execution_count": null,
   "metadata": {},
   "outputs": [],
   "source": [
    "sns.pairplot(tips_df, height=2, hue=\"smoker\")"
   ]
  },
  {
   "cell_type": "markdown",
   "metadata": {},
   "source": [
    "## Regression\n",
    "\n",
    "We are not doing Machine Learning yet but we can use [`seaborn.lmplot`](https://seaborn.pydata.org/generated/seaborn.lmplot.html) to graphically read a linear correlation between two columns:"
   ]
  },
  {
   "cell_type": "code",
   "execution_count": null,
   "metadata": {},
   "outputs": [],
   "source": [
    "sns.lmplot(x=\"total_bill\", y=\"tip\", col=\"smoker\", data=tips_df)"
   ]
  },
  {
   "cell_type": "markdown",
   "metadata": {},
   "source": [
    "## Good job!\n",
    "\n",
    "Save your notebook, go back to the **Le Wagon - Learn** platform to upload your progress. A quiz awaits you!"
   ]
  }
 ],
 "metadata": {
  "kernelspec": {
   "display_name": "Python 3",
   "language": "python",
   "name": "python3"
  },
  "language_info": {
   "codemirror_mode": {
    "name": "ipython",
    "version": 3
   },
   "file_extension": ".py",
   "mimetype": "text/x-python",
   "name": "python",
   "nbconvert_exporter": "python",
   "pygments_lexer": "ipython3",
   "version": "3.7.6"
  }
 },
 "nbformat": 4,
 "nbformat_minor": 4
}
