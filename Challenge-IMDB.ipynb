{
 "cells": [
  {
   "cell_type": "markdown",
   "metadata": {},
   "source": [
    "## Question 1 - Python 101"
   ]
  },
  {
   "cell_type": "markdown",
   "metadata": {},
   "source": [
    "### Question 1.1"
   ]
  },
  {
   "cell_type": "markdown",
   "metadata": {},
   "source": [
    "---\n",
    "❓ Define a variable called **key_sentence** with the following sentence:\n",
    "_\"Learning Data Analytics at Le Wagon is amazing!\"_"
   ]
  },
  {
   "cell_type": "code",
   "execution_count": 1,
   "metadata": {},
   "outputs": [
    {
     "data": {
      "text/plain": [
       "'Learning Data Analytics at Le Wagon is amazing!'"
      ]
     },
     "execution_count": 1,
     "metadata": {},
     "output_type": "execute_result"
    }
   ],
   "source": [
    "# Your code here\n",
    "key_sentence= \"Learning Data Analytics at Le Wagon is amazing!\"\n",
    "key_sentence"
   ]
  },
  {
   "cell_type": "markdown",
   "metadata": {},
   "source": [
    "### Question 1.2"
   ]
  },
  {
   "cell_type": "markdown",
   "metadata": {},
   "source": [
    "---\n",
    "❓ Print the length of the sentence stored in the variable **key_sentence**."
   ]
  },
  {
   "cell_type": "code",
   "execution_count": 2,
   "metadata": {},
   "outputs": [
    {
     "name": "stdout",
     "output_type": "stream",
     "text": [
      "47\n"
     ]
    }
   ],
   "source": [
    "# Your code here\n",
    "print(len(key_sentence)) # running this code we got the lenght of the sentence: 47"
   ]
  },
  {
   "cell_type": "markdown",
   "metadata": {},
   "source": [
    "## Question 2 - Data Sourcing and EDA with Pandas"
   ]
  },
  {
   "cell_type": "markdown",
   "metadata": {},
   "source": [
    "The goal of this challenge is to analyze movies on IMDb. Some code cells are already implemented, you just need to **run** them. Some other cells need you to write some code.\n",
    "\n",
    "Start the challenge by running the two following cells:\n",
    "\n",
    "**Please guarantee that you have saved the *IMDb movies.csv* in the same folder as you have saved this document!** \n",
    "\n",
    "*If you store it in a different folder you will have to define the path within the **pd.read_csv()** function.*"
   ]
  },
  {
   "cell_type": "code",
   "execution_count": 3,
   "metadata": {},
   "outputs": [],
   "source": [
    "import pandas as pd\n",
    "import seaborn as sns\n",
    "import matplotlib.pyplot as plt\n",
    "import numpy as np"
   ]
  },
  {
   "cell_type": "code",
   "execution_count": 4,
   "metadata": {},
   "outputs": [],
   "source": [
    "imdb_movies = pd.read_csv('IMDb movies.csv', low_memory=False) # attending the DtypeWarning that we got, we added the argument ´low_memory=False´"
   ]
  },
  {
   "cell_type": "code",
   "execution_count": 5,
   "metadata": {},
   "outputs": [
    {
     "data": {
      "text/plain": [
       "(85855, 22)"
      ]
     },
     "execution_count": 5,
     "metadata": {},
     "output_type": "execute_result"
    }
   ],
   "source": [
    "imdb_movies.shape"
   ]
  },
  {
   "cell_type": "markdown",
   "metadata": {},
   "source": [
    "---\n",
    "\n",
    "Apply the following code to create a new DataFrame called **imdb_filtered** which filters the **imdb_movies** DataFrame to only include movies from the below listed countries and genres:\n",
    "\n",
    "**Countries**:\n",
    "   - USA\n",
    "   - UK\n",
    "   - India\n",
    "   - France\n",
    "   - China\n",
    "   - Portugal\n",
    "\n",
    "\n",
    "**Genres**:\n",
    "   - Drama\n",
    "   - Comedy\n",
    "   - Thriller \n",
    "   - Horror"
   ]
  },
  {
   "cell_type": "code",
   "execution_count": 6,
   "metadata": {},
   "outputs": [],
   "source": [
    "countries_to_keep = ['USA','UK','India','France','China','Portugal']\n",
    "\n",
    "genres_to_keep = ['Drama','Comedy','Thriller','Horror']\n",
    "\n",
    "\n",
    "imdb_filtered = imdb_movies[imdb_movies.country.isin(countries_to_keep)]\n",
    "\n",
    "imdb_filtered = imdb_filtered[imdb_filtered.genre.isin(genres_to_keep)]"
   ]
  },
  {
   "cell_type": "code",
   "execution_count": 7,
   "metadata": {},
   "outputs": [
    {
     "data": {
      "text/plain": [
       "(10074, 22)"
      ]
     },
     "execution_count": 7,
     "metadata": {},
     "output_type": "execute_result"
    }
   ],
   "source": [
    "imdb_filtered.shape # checking the result and comparing with above one, we conclude that:\n",
    "#the initial dataframe has 85855rows x 22 columns, and the filtered dataset has 10074 rows x 22columns"
   ]
  },
  {
   "cell_type": "markdown",
   "metadata": {},
   "source": [
    " **Always use the *imdb_filtered* DataFrame for answering the upcoming questions!**"
   ]
  },
  {
   "cell_type": "markdown",
   "metadata": {},
   "source": [
    "### Question 2.1"
   ]
  },
  {
   "cell_type": "markdown",
   "metadata": {},
   "source": [
    "---\n",
    "\n",
    "❓ Display the 10 first rows of the **imdb_filtered** DataFrame (no need to sort)"
   ]
  },
  {
   "cell_type": "code",
   "execution_count": 8,
   "metadata": {
    "scrolled": true
   },
   "outputs": [
    {
     "data": {
      "text/html": [
       "<div>\n",
       "<style scoped>\n",
       "    .dataframe tbody tr th:only-of-type {\n",
       "        vertical-align: middle;\n",
       "    }\n",
       "\n",
       "    .dataframe tbody tr th {\n",
       "        vertical-align: top;\n",
       "    }\n",
       "\n",
       "    .dataframe thead th {\n",
       "        text-align: right;\n",
       "    }\n",
       "</style>\n",
       "<table border=\"1\" class=\"dataframe\">\n",
       "  <thead>\n",
       "    <tr style=\"text-align: right;\">\n",
       "      <th></th>\n",
       "      <th>imdb_title_id</th>\n",
       "      <th>title</th>\n",
       "      <th>original_title</th>\n",
       "      <th>year</th>\n",
       "      <th>date_published</th>\n",
       "      <th>genre</th>\n",
       "      <th>duration</th>\n",
       "      <th>country</th>\n",
       "      <th>language</th>\n",
       "      <th>director</th>\n",
       "      <th>...</th>\n",
       "      <th>actors</th>\n",
       "      <th>description</th>\n",
       "      <th>avg_vote</th>\n",
       "      <th>votes</th>\n",
       "      <th>budget</th>\n",
       "      <th>usa_gross_income</th>\n",
       "      <th>worlwide_gross_income</th>\n",
       "      <th>metascore</th>\n",
       "      <th>reviews_from_users</th>\n",
       "      <th>reviews_from_critics</th>\n",
       "    </tr>\n",
       "  </thead>\n",
       "  <tbody>\n",
       "    <tr>\n",
       "      <th>17</th>\n",
       "      <td>tt0003167</td>\n",
       "      <td>Amore di madre</td>\n",
       "      <td>Home, Sweet Home</td>\n",
       "      <td>1914</td>\n",
       "      <td>1914-05-17</td>\n",
       "      <td>Drama</td>\n",
       "      <td>55</td>\n",
       "      <td>USA</td>\n",
       "      <td>English</td>\n",
       "      <td>D.W. Griffith</td>\n",
       "      <td>...</td>\n",
       "      <td>Henry B. Walthall, Josephine Crowell, Lillian ...</td>\n",
       "      <td>John Howard Payne at his most miserable point ...</td>\n",
       "      <td>5.8</td>\n",
       "      <td>187</td>\n",
       "      <td>NaN</td>\n",
       "      <td>NaN</td>\n",
       "      <td>NaN</td>\n",
       "      <td>NaN</td>\n",
       "      <td>6.0</td>\n",
       "      <td>NaN</td>\n",
       "    </tr>\n",
       "    <tr>\n",
       "      <th>28</th>\n",
       "      <td>tt0003973</td>\n",
       "      <td>A Florida Enchantment</td>\n",
       "      <td>A Florida Enchantment</td>\n",
       "      <td>1914</td>\n",
       "      <td>1916-09-04</td>\n",
       "      <td>Comedy</td>\n",
       "      <td>63</td>\n",
       "      <td>USA</td>\n",
       "      <td>English</td>\n",
       "      <td>Sidney Drew</td>\n",
       "      <td>...</td>\n",
       "      <td>Sidney Drew, Edith Storey, Charles Kent, Mrs. ...</td>\n",
       "      <td>A young woman discovers a seed that can make w...</td>\n",
       "      <td>5.8</td>\n",
       "      <td>202</td>\n",
       "      <td>NaN</td>\n",
       "      <td>NaN</td>\n",
       "      <td>NaN</td>\n",
       "      <td>NaN</td>\n",
       "      <td>6.0</td>\n",
       "      <td>3.0</td>\n",
       "    </tr>\n",
       "    <tr>\n",
       "      <th>32</th>\n",
       "      <td>tt0004134</td>\n",
       "      <td>Hypocrites</td>\n",
       "      <td>Hypocrites</td>\n",
       "      <td>1915</td>\n",
       "      <td>1915-01-20</td>\n",
       "      <td>Drama</td>\n",
       "      <td>54</td>\n",
       "      <td>USA</td>\n",
       "      <td>English</td>\n",
       "      <td>Lois Weber</td>\n",
       "      <td>...</td>\n",
       "      <td>Courtenay Foote, Myrtle Stedman, Herbert Stand...</td>\n",
       "      <td>The parallel stories of a modern preacher and ...</td>\n",
       "      <td>6.6</td>\n",
       "      <td>456</td>\n",
       "      <td>NaN</td>\n",
       "      <td>NaN</td>\n",
       "      <td>NaN</td>\n",
       "      <td>NaN</td>\n",
       "      <td>41.0</td>\n",
       "      <td>9.0</td>\n",
       "    </tr>\n",
       "    <tr>\n",
       "      <th>34</th>\n",
       "      <td>tt0004181</td>\n",
       "      <td>Judith of Bethulia</td>\n",
       "      <td>Judith of Bethulia</td>\n",
       "      <td>1914</td>\n",
       "      <td>1914-03-08</td>\n",
       "      <td>Drama</td>\n",
       "      <td>61</td>\n",
       "      <td>USA</td>\n",
       "      <td>English</td>\n",
       "      <td>D.W. Griffith</td>\n",
       "      <td>...</td>\n",
       "      <td>Blanche Sweet, Henry B. Walthall, Mae Marsh, R...</td>\n",
       "      <td>A religious woman seeks to save her people fro...</td>\n",
       "      <td>6.1</td>\n",
       "      <td>1239</td>\n",
       "      <td>$ 40000</td>\n",
       "      <td>NaN</td>\n",
       "      <td>NaN</td>\n",
       "      <td>NaN</td>\n",
       "      <td>16.0</td>\n",
       "      <td>9.0</td>\n",
       "    </tr>\n",
       "    <tr>\n",
       "      <th>38</th>\n",
       "      <td>tt0004681</td>\n",
       "      <td>La madonnina del porto</td>\n",
       "      <td>Tess of the Storm Country</td>\n",
       "      <td>1914</td>\n",
       "      <td>1914-03-30</td>\n",
       "      <td>Drama</td>\n",
       "      <td>80</td>\n",
       "      <td>USA</td>\n",
       "      <td>English</td>\n",
       "      <td>Edwin S. Porter</td>\n",
       "      <td>...</td>\n",
       "      <td>Mary Pickford, Harold Lockwood, Olive Carey, D...</td>\n",
       "      <td>A wealthy resident attempts to dispossess squa...</td>\n",
       "      <td>6.1</td>\n",
       "      <td>178</td>\n",
       "      <td>$ 10000</td>\n",
       "      <td>NaN</td>\n",
       "      <td>NaN</td>\n",
       "      <td>NaN</td>\n",
       "      <td>5.0</td>\n",
       "      <td>3.0</td>\n",
       "    </tr>\n",
       "    <tr>\n",
       "      <th>39</th>\n",
       "      <td>tt0004707</td>\n",
       "      <td>Tillie's Punctured Romance</td>\n",
       "      <td>Tillie's Punctured Romance</td>\n",
       "      <td>1914</td>\n",
       "      <td>1914-12-21</td>\n",
       "      <td>Comedy</td>\n",
       "      <td>82</td>\n",
       "      <td>USA</td>\n",
       "      <td>None, English</td>\n",
       "      <td>Mack Sennett, Charles Bennett</td>\n",
       "      <td>...</td>\n",
       "      <td>Marie Dressler, Charles Chaplin, Mabel Normand...</td>\n",
       "      <td>A con man from the city dupes a wealthy countr...</td>\n",
       "      <td>6.3</td>\n",
       "      <td>3250</td>\n",
       "      <td>$ 50000</td>\n",
       "      <td>NaN</td>\n",
       "      <td>NaN</td>\n",
       "      <td>NaN</td>\n",
       "      <td>38.0</td>\n",
       "      <td>18.0</td>\n",
       "    </tr>\n",
       "    <tr>\n",
       "      <th>41</th>\n",
       "      <td>tt0004743</td>\n",
       "      <td>Uncle Tom's Cabin</td>\n",
       "      <td>Uncle Tom's Cabin</td>\n",
       "      <td>1914</td>\n",
       "      <td>1914-08-10</td>\n",
       "      <td>Drama</td>\n",
       "      <td>54</td>\n",
       "      <td>USA</td>\n",
       "      <td>NaN</td>\n",
       "      <td>William Robert Daly</td>\n",
       "      <td>...</td>\n",
       "      <td>Sam Lucas, Walter Hitchcock, Hattie Delaro, Ma...</td>\n",
       "      <td>A black and white silent film based on Harriet...</td>\n",
       "      <td>5.3</td>\n",
       "      <td>112</td>\n",
       "      <td>NaN</td>\n",
       "      <td>NaN</td>\n",
       "      <td>NaN</td>\n",
       "      <td>NaN</td>\n",
       "      <td>4.0</td>\n",
       "      <td>NaN</td>\n",
       "    </tr>\n",
       "    <tr>\n",
       "      <th>48</th>\n",
       "      <td>tt0005060</td>\n",
       "      <td>Carmen</td>\n",
       "      <td>Carmen</td>\n",
       "      <td>1915</td>\n",
       "      <td>1915-10-31</td>\n",
       "      <td>Drama</td>\n",
       "      <td>59</td>\n",
       "      <td>USA</td>\n",
       "      <td>English</td>\n",
       "      <td>Cecil B. DeMille</td>\n",
       "      <td>...</td>\n",
       "      <td>Geraldine Farrar, Wallace Reid, Pedro de Cordo...</td>\n",
       "      <td>In order to help her smuggler kinsmen, a sultr...</td>\n",
       "      <td>6.4</td>\n",
       "      <td>894</td>\n",
       "      <td>$ 23430</td>\n",
       "      <td>NaN</td>\n",
       "      <td>NaN</td>\n",
       "      <td>NaN</td>\n",
       "      <td>20.0</td>\n",
       "      <td>8.0</td>\n",
       "    </tr>\n",
       "    <tr>\n",
       "      <th>51</th>\n",
       "      <td>tt0005339</td>\n",
       "      <td>La vampira</td>\n",
       "      <td>A Fool There Was</td>\n",
       "      <td>1915</td>\n",
       "      <td>1915-01-12</td>\n",
       "      <td>Drama</td>\n",
       "      <td>67</td>\n",
       "      <td>USA</td>\n",
       "      <td>English</td>\n",
       "      <td>Frank Powell</td>\n",
       "      <td>...</td>\n",
       "      <td>Runa Hodges, Mabel Frenyear, Edward José, May ...</td>\n",
       "      <td>A married diplomat falls hopelessly under the ...</td>\n",
       "      <td>5.8</td>\n",
       "      <td>783</td>\n",
       "      <td>NaN</td>\n",
       "      <td>NaN</td>\n",
       "      <td>NaN</td>\n",
       "      <td>NaN</td>\n",
       "      <td>20.0</td>\n",
       "      <td>14.0</td>\n",
       "    </tr>\n",
       "    <tr>\n",
       "      <th>52</th>\n",
       "      <td>tt0005402</td>\n",
       "      <td>The Golden Chance</td>\n",
       "      <td>The Golden Chance</td>\n",
       "      <td>1915</td>\n",
       "      <td>1915-12-30</td>\n",
       "      <td>Drama</td>\n",
       "      <td>74</td>\n",
       "      <td>USA</td>\n",
       "      <td>English</td>\n",
       "      <td>Cecil B. DeMille</td>\n",
       "      <td>...</td>\n",
       "      <td>Cleo Ridgely, Wallace Reid, Horace B. Carpente...</td>\n",
       "      <td>Mary Denby becomes a seamstress after her husb...</td>\n",
       "      <td>6.4</td>\n",
       "      <td>187</td>\n",
       "      <td>$ 18711</td>\n",
       "      <td>NaN</td>\n",
       "      <td>NaN</td>\n",
       "      <td>NaN</td>\n",
       "      <td>10.0</td>\n",
       "      <td>1.0</td>\n",
       "    </tr>\n",
       "  </tbody>\n",
       "</table>\n",
       "<p>10 rows × 22 columns</p>\n",
       "</div>"
      ],
      "text/plain": [
       "   imdb_title_id                       title              original_title  \\\n",
       "17     tt0003167              Amore di madre            Home, Sweet Home   \n",
       "28     tt0003973       A Florida Enchantment       A Florida Enchantment   \n",
       "32     tt0004134                  Hypocrites                  Hypocrites   \n",
       "34     tt0004181          Judith of Bethulia          Judith of Bethulia   \n",
       "38     tt0004681      La madonnina del porto   Tess of the Storm Country   \n",
       "39     tt0004707  Tillie's Punctured Romance  Tillie's Punctured Romance   \n",
       "41     tt0004743           Uncle Tom's Cabin           Uncle Tom's Cabin   \n",
       "48     tt0005060                      Carmen                      Carmen   \n",
       "51     tt0005339                  La vampira            A Fool There Was   \n",
       "52     tt0005402           The Golden Chance           The Golden Chance   \n",
       "\n",
       "    year date_published   genre  duration country       language  \\\n",
       "17  1914     1914-05-17   Drama        55     USA        English   \n",
       "28  1914     1916-09-04  Comedy        63     USA        English   \n",
       "32  1915     1915-01-20   Drama        54     USA        English   \n",
       "34  1914     1914-03-08   Drama        61     USA        English   \n",
       "38  1914     1914-03-30   Drama        80     USA        English   \n",
       "39  1914     1914-12-21  Comedy        82     USA  None, English   \n",
       "41  1914     1914-08-10   Drama        54     USA            NaN   \n",
       "48  1915     1915-10-31   Drama        59     USA        English   \n",
       "51  1915     1915-01-12   Drama        67     USA        English   \n",
       "52  1915     1915-12-30   Drama        74     USA        English   \n",
       "\n",
       "                         director  ...  \\\n",
       "17                  D.W. Griffith  ...   \n",
       "28                    Sidney Drew  ...   \n",
       "32                     Lois Weber  ...   \n",
       "34                  D.W. Griffith  ...   \n",
       "38                Edwin S. Porter  ...   \n",
       "39  Mack Sennett, Charles Bennett  ...   \n",
       "41            William Robert Daly  ...   \n",
       "48               Cecil B. DeMille  ...   \n",
       "51                   Frank Powell  ...   \n",
       "52               Cecil B. DeMille  ...   \n",
       "\n",
       "                                               actors  \\\n",
       "17  Henry B. Walthall, Josephine Crowell, Lillian ...   \n",
       "28  Sidney Drew, Edith Storey, Charles Kent, Mrs. ...   \n",
       "32  Courtenay Foote, Myrtle Stedman, Herbert Stand...   \n",
       "34  Blanche Sweet, Henry B. Walthall, Mae Marsh, R...   \n",
       "38  Mary Pickford, Harold Lockwood, Olive Carey, D...   \n",
       "39  Marie Dressler, Charles Chaplin, Mabel Normand...   \n",
       "41  Sam Lucas, Walter Hitchcock, Hattie Delaro, Ma...   \n",
       "48  Geraldine Farrar, Wallace Reid, Pedro de Cordo...   \n",
       "51  Runa Hodges, Mabel Frenyear, Edward José, May ...   \n",
       "52  Cleo Ridgely, Wallace Reid, Horace B. Carpente...   \n",
       "\n",
       "                                          description avg_vote votes   budget  \\\n",
       "17  John Howard Payne at his most miserable point ...      5.8   187      NaN   \n",
       "28  A young woman discovers a seed that can make w...      5.8   202      NaN   \n",
       "32  The parallel stories of a modern preacher and ...      6.6   456      NaN   \n",
       "34  A religious woman seeks to save her people fro...      6.1  1239  $ 40000   \n",
       "38  A wealthy resident attempts to dispossess squa...      6.1   178  $ 10000   \n",
       "39  A con man from the city dupes a wealthy countr...      6.3  3250  $ 50000   \n",
       "41  A black and white silent film based on Harriet...      5.3   112      NaN   \n",
       "48  In order to help her smuggler kinsmen, a sultr...      6.4   894  $ 23430   \n",
       "51  A married diplomat falls hopelessly under the ...      5.8   783      NaN   \n",
       "52  Mary Denby becomes a seamstress after her husb...      6.4   187  $ 18711   \n",
       "\n",
       "    usa_gross_income worlwide_gross_income metascore reviews_from_users  \\\n",
       "17               NaN                   NaN       NaN                6.0   \n",
       "28               NaN                   NaN       NaN                6.0   \n",
       "32               NaN                   NaN       NaN               41.0   \n",
       "34               NaN                   NaN       NaN               16.0   \n",
       "38               NaN                   NaN       NaN                5.0   \n",
       "39               NaN                   NaN       NaN               38.0   \n",
       "41               NaN                   NaN       NaN                4.0   \n",
       "48               NaN                   NaN       NaN               20.0   \n",
       "51               NaN                   NaN       NaN               20.0   \n",
       "52               NaN                   NaN       NaN               10.0   \n",
       "\n",
       "    reviews_from_critics  \n",
       "17                   NaN  \n",
       "28                   3.0  \n",
       "32                   9.0  \n",
       "34                   9.0  \n",
       "38                   3.0  \n",
       "39                  18.0  \n",
       "41                   NaN  \n",
       "48                   8.0  \n",
       "51                  14.0  \n",
       "52                   1.0  \n",
       "\n",
       "[10 rows x 22 columns]"
      ]
     },
     "execution_count": 8,
     "metadata": {},
     "output_type": "execute_result"
    }
   ],
   "source": [
    "# Your code here\n",
    "imdb_filtered.head(10) # to check the first 10 rows of dataframe \n",
    "#REPLY QUESTION 2.1:"
   ]
  },
  {
   "cell_type": "markdown",
   "metadata": {},
   "source": [
    "### Question 2.2"
   ]
  },
  {
   "cell_type": "markdown",
   "metadata": {},
   "source": [
    "---\n",
    "\n",
    "❓How many rows and columns exist in the **imdb_filtered** DataFrame?"
   ]
  },
  {
   "cell_type": "code",
   "execution_count": 9,
   "metadata": {},
   "outputs": [
    {
     "name": "stdout",
     "output_type": "stream",
     "text": [
      "In the 'imdb_filtered' DataFrame exists 10074 rows and 22 columns.\n"
     ]
    }
   ],
   "source": [
    "# Your code here\n",
    "imdb_filtered.shape[0] # rows\n",
    "imdb_filtered.shape[1] # columns\n",
    "#reply QUESTION 2.2\n",
    "print(f\"In the 'imdb_filtered' DataFrame exists {imdb_filtered.shape[0]} rows and {imdb_filtered.shape[1]} columns.\")"
   ]
  },
  {
   "cell_type": "markdown",
   "metadata": {},
   "source": [
    "### Question 2.3"
   ]
  },
  {
   "cell_type": "markdown",
   "metadata": {},
   "source": [
    "---\n",
    "\n",
    "❓Drop the columns in the *columns_to_drop* list below from the **imdb_filtered** DataFrame:"
   ]
  },
  {
   "cell_type": "code",
   "execution_count": 10,
   "metadata": {},
   "outputs": [],
   "source": [
    "columns_to_drop = ['title', 'date_published', 'writer','actors','description','usa_gross_income',\n",
    "                   'worlwide_gross_income','metascore','reviews_from_users','reviews_from_critics'] "
   ]
  },
  {
   "cell_type": "code",
   "execution_count": 11,
   "metadata": {},
   "outputs": [],
   "source": [
    "# Your code here\n",
    "imdb_filtered.drop(columns_to_drop, axis=1, inplace=True) # THIS IS REPLY QUESITON 2.3\n",
    "# to drop columns need to add axis=1\n",
    "#also added inplace=True, to assign the changes to imdb_filtered again"
   ]
  },
  {
   "cell_type": "code",
   "execution_count": 12,
   "metadata": {},
   "outputs": [
    {
     "data": {
      "text/plain": [
       "(10074, 12)"
      ]
     },
     "execution_count": 12,
     "metadata": {},
     "output_type": "execute_result"
    }
   ],
   "source": [
    "imdb_filtered.shape # running this we can see that now we have less 10 columns. total 12 columns"
   ]
  },
  {
   "cell_type": "code",
   "execution_count": 13,
   "metadata": {},
   "outputs": [
    {
     "data": {
      "text/html": [
       "<div>\n",
       "<style scoped>\n",
       "    .dataframe tbody tr th:only-of-type {\n",
       "        vertical-align: middle;\n",
       "    }\n",
       "\n",
       "    .dataframe tbody tr th {\n",
       "        vertical-align: top;\n",
       "    }\n",
       "\n",
       "    .dataframe thead th {\n",
       "        text-align: right;\n",
       "    }\n",
       "</style>\n",
       "<table border=\"1\" class=\"dataframe\">\n",
       "  <thead>\n",
       "    <tr style=\"text-align: right;\">\n",
       "      <th></th>\n",
       "      <th>imdb_title_id</th>\n",
       "      <th>original_title</th>\n",
       "      <th>year</th>\n",
       "      <th>genre</th>\n",
       "      <th>duration</th>\n",
       "      <th>country</th>\n",
       "      <th>language</th>\n",
       "      <th>director</th>\n",
       "      <th>production_company</th>\n",
       "      <th>avg_vote</th>\n",
       "      <th>votes</th>\n",
       "      <th>budget</th>\n",
       "    </tr>\n",
       "  </thead>\n",
       "  <tbody>\n",
       "    <tr>\n",
       "      <th>17</th>\n",
       "      <td>tt0003167</td>\n",
       "      <td>Home, Sweet Home</td>\n",
       "      <td>1914</td>\n",
       "      <td>Drama</td>\n",
       "      <td>55</td>\n",
       "      <td>USA</td>\n",
       "      <td>English</td>\n",
       "      <td>D.W. Griffith</td>\n",
       "      <td>Majestic Motion Picture Company</td>\n",
       "      <td>5.8</td>\n",
       "      <td>187</td>\n",
       "      <td>NaN</td>\n",
       "    </tr>\n",
       "    <tr>\n",
       "      <th>28</th>\n",
       "      <td>tt0003973</td>\n",
       "      <td>A Florida Enchantment</td>\n",
       "      <td>1914</td>\n",
       "      <td>Comedy</td>\n",
       "      <td>63</td>\n",
       "      <td>USA</td>\n",
       "      <td>English</td>\n",
       "      <td>Sidney Drew</td>\n",
       "      <td>Vitagraph Company of America</td>\n",
       "      <td>5.8</td>\n",
       "      <td>202</td>\n",
       "      <td>NaN</td>\n",
       "    </tr>\n",
       "    <tr>\n",
       "      <th>32</th>\n",
       "      <td>tt0004134</td>\n",
       "      <td>Hypocrites</td>\n",
       "      <td>1915</td>\n",
       "      <td>Drama</td>\n",
       "      <td>54</td>\n",
       "      <td>USA</td>\n",
       "      <td>English</td>\n",
       "      <td>Lois Weber</td>\n",
       "      <td>Hobart Bosworth Productions</td>\n",
       "      <td>6.6</td>\n",
       "      <td>456</td>\n",
       "      <td>NaN</td>\n",
       "    </tr>\n",
       "    <tr>\n",
       "      <th>34</th>\n",
       "      <td>tt0004181</td>\n",
       "      <td>Judith of Bethulia</td>\n",
       "      <td>1914</td>\n",
       "      <td>Drama</td>\n",
       "      <td>61</td>\n",
       "      <td>USA</td>\n",
       "      <td>English</td>\n",
       "      <td>D.W. Griffith</td>\n",
       "      <td>Biograph Company</td>\n",
       "      <td>6.1</td>\n",
       "      <td>1239</td>\n",
       "      <td>$ 40000</td>\n",
       "    </tr>\n",
       "    <tr>\n",
       "      <th>38</th>\n",
       "      <td>tt0004681</td>\n",
       "      <td>Tess of the Storm Country</td>\n",
       "      <td>1914</td>\n",
       "      <td>Drama</td>\n",
       "      <td>80</td>\n",
       "      <td>USA</td>\n",
       "      <td>English</td>\n",
       "      <td>Edwin S. Porter</td>\n",
       "      <td>Famous Players Film Company</td>\n",
       "      <td>6.1</td>\n",
       "      <td>178</td>\n",
       "      <td>$ 10000</td>\n",
       "    </tr>\n",
       "  </tbody>\n",
       "</table>\n",
       "</div>"
      ],
      "text/plain": [
       "   imdb_title_id             original_title  year   genre  duration country  \\\n",
       "17     tt0003167           Home, Sweet Home  1914   Drama        55     USA   \n",
       "28     tt0003973      A Florida Enchantment  1914  Comedy        63     USA   \n",
       "32     tt0004134                 Hypocrites  1915   Drama        54     USA   \n",
       "34     tt0004181         Judith of Bethulia  1914   Drama        61     USA   \n",
       "38     tt0004681  Tess of the Storm Country  1914   Drama        80     USA   \n",
       "\n",
       "   language         director               production_company  avg_vote  \\\n",
       "17  English    D.W. Griffith  Majestic Motion Picture Company       5.8   \n",
       "28  English      Sidney Drew     Vitagraph Company of America       5.8   \n",
       "32  English       Lois Weber      Hobart Bosworth Productions       6.6   \n",
       "34  English    D.W. Griffith                 Biograph Company       6.1   \n",
       "38  English  Edwin S. Porter      Famous Players Film Company       6.1   \n",
       "\n",
       "    votes   budget  \n",
       "17    187      NaN  \n",
       "28    202      NaN  \n",
       "32    456      NaN  \n",
       "34   1239  $ 40000  \n",
       "38    178  $ 10000  "
      ]
     },
     "execution_count": 13,
     "metadata": {},
     "output_type": "execute_result"
    }
   ],
   "source": [
    "imdb_filtered.head() #checking the columns with what we will work from now"
   ]
  },
  {
   "cell_type": "markdown",
   "metadata": {},
   "source": [
    "### Question 2.4"
   ]
  },
  {
   "cell_type": "markdown",
   "metadata": {},
   "source": [
    "---\n",
    "\n",
    "❓How many movies exist in total? Store the result in a variable called **total_movie_number**."
   ]
  },
  {
   "cell_type": "code",
   "execution_count": 14,
   "metadata": {},
   "outputs": [
    {
     "name": "stdout",
     "output_type": "stream",
     "text": [
      "9920\n",
      "In total exists 9920 movies (excluding the duplicated rows for the same movie).\n"
     ]
    }
   ],
   "source": [
    "# Your code here\n",
    "total_movie_number=imdb_filtered[\"original_title\"].nunique()\n",
    "print(total_movie_number)\n",
    "#reply QUESTION 2.4\n",
    "print(f\"In total exists {total_movie_number} movies (excluding the duplicated rows for the same movie).\")"
   ]
  },
  {
   "cell_type": "markdown",
   "metadata": {},
   "source": [
    "### Question 2.5"
   ]
  },
  {
   "cell_type": "markdown",
   "metadata": {},
   "source": [
    "---\n",
    "\n",
    "❓ What are the 10 movies with the hightest average vote? "
   ]
  },
  {
   "cell_type": "code",
   "execution_count": 15,
   "metadata": {},
   "outputs": [
    {
     "data": {
      "text/html": [
       "<div>\n",
       "<style scoped>\n",
       "    .dataframe tbody tr th:only-of-type {\n",
       "        vertical-align: middle;\n",
       "    }\n",
       "\n",
       "    .dataframe tbody tr th {\n",
       "        vertical-align: top;\n",
       "    }\n",
       "\n",
       "    .dataframe thead th {\n",
       "        text-align: right;\n",
       "    }\n",
       "</style>\n",
       "<table border=\"1\" class=\"dataframe\">\n",
       "  <thead>\n",
       "    <tr style=\"text-align: right;\">\n",
       "      <th></th>\n",
       "      <th>imdb_title_id</th>\n",
       "      <th>original_title</th>\n",
       "      <th>year</th>\n",
       "      <th>genre</th>\n",
       "      <th>duration</th>\n",
       "      <th>country</th>\n",
       "      <th>language</th>\n",
       "      <th>director</th>\n",
       "      <th>production_company</th>\n",
       "      <th>avg_vote</th>\n",
       "      <th>votes</th>\n",
       "      <th>budget</th>\n",
       "    </tr>\n",
       "  </thead>\n",
       "  <tbody>\n",
       "    <tr>\n",
       "      <th>84434</th>\n",
       "      <td>tt8571428</td>\n",
       "      <td>Vaarthakal Ithuvare</td>\n",
       "      <td>2019</td>\n",
       "      <td>Comedy</td>\n",
       "      <td>121</td>\n",
       "      <td>India</td>\n",
       "      <td>Malayalam</td>\n",
       "      <td>Manoj Nair</td>\n",
       "      <td>Lawson Entertainment</td>\n",
       "      <td>9.7</td>\n",
       "      <td>473</td>\n",
       "      <td>NaN</td>\n",
       "    </tr>\n",
       "    <tr>\n",
       "      <th>58809</th>\n",
       "      <td>tt1508669</td>\n",
       "      <td>Hopeful Notes</td>\n",
       "      <td>2010</td>\n",
       "      <td>Drama</td>\n",
       "      <td>94</td>\n",
       "      <td>USA</td>\n",
       "      <td>English</td>\n",
       "      <td>Valerio Zanoli</td>\n",
       "      <td>High Concept</td>\n",
       "      <td>9.7</td>\n",
       "      <td>669</td>\n",
       "      <td>$ 1500000</td>\n",
       "    </tr>\n",
       "    <tr>\n",
       "      <th>54166</th>\n",
       "      <td>tt11164090</td>\n",
       "      <td>The Moving on Phase</td>\n",
       "      <td>2020</td>\n",
       "      <td>Comedy</td>\n",
       "      <td>85</td>\n",
       "      <td>USA</td>\n",
       "      <td>English</td>\n",
       "      <td>Don Tjernagel</td>\n",
       "      <td>NaN</td>\n",
       "      <td>9.5</td>\n",
       "      <td>172</td>\n",
       "      <td>NaN</td>\n",
       "    </tr>\n",
       "    <tr>\n",
       "      <th>28453</th>\n",
       "      <td>tt0111161</td>\n",
       "      <td>The Shawshank Redemption</td>\n",
       "      <td>1994</td>\n",
       "      <td>Drama</td>\n",
       "      <td>142</td>\n",
       "      <td>USA</td>\n",
       "      <td>English</td>\n",
       "      <td>Frank Darabont</td>\n",
       "      <td>Castle Rock Entertainment</td>\n",
       "      <td>9.3</td>\n",
       "      <td>2278845</td>\n",
       "      <td>$ 25000000</td>\n",
       "    </tr>\n",
       "    <tr>\n",
       "      <th>81109</th>\n",
       "      <td>tt6735740</td>\n",
       "      <td>Love in Kilnerry</td>\n",
       "      <td>2019</td>\n",
       "      <td>Comedy</td>\n",
       "      <td>100</td>\n",
       "      <td>USA</td>\n",
       "      <td>English</td>\n",
       "      <td>Daniel Keith, Snorri Sturluson</td>\n",
       "      <td>Archway Pictures</td>\n",
       "      <td>9.3</td>\n",
       "      <td>1239</td>\n",
       "      <td>$ 3000000</td>\n",
       "    </tr>\n",
       "    <tr>\n",
       "      <th>76069</th>\n",
       "      <td>tt4897596</td>\n",
       "      <td>Digbhayam</td>\n",
       "      <td>2019</td>\n",
       "      <td>Thriller</td>\n",
       "      <td>107</td>\n",
       "      <td>India</td>\n",
       "      <td>Kannada</td>\n",
       "      <td>Amith</td>\n",
       "      <td>1234 Cine Creations</td>\n",
       "      <td>9.2</td>\n",
       "      <td>247</td>\n",
       "      <td>INR 12000000</td>\n",
       "    </tr>\n",
       "    <tr>\n",
       "      <th>84623</th>\n",
       "      <td>tt8718580</td>\n",
       "      <td>Eghantham</td>\n",
       "      <td>2018</td>\n",
       "      <td>Drama</td>\n",
       "      <td>125</td>\n",
       "      <td>India</td>\n",
       "      <td>Tamil</td>\n",
       "      <td>Arsel Arumugam</td>\n",
       "      <td>Annai Tamil Cinemas</td>\n",
       "      <td>9.2</td>\n",
       "      <td>644</td>\n",
       "      <td>NaN</td>\n",
       "    </tr>\n",
       "    <tr>\n",
       "      <th>54313</th>\n",
       "      <td>tt11280912</td>\n",
       "      <td>Maarjaara Oru Kalluvacha Nuna</td>\n",
       "      <td>2020</td>\n",
       "      <td>Drama</td>\n",
       "      <td>142</td>\n",
       "      <td>India</td>\n",
       "      <td>Malayalam</td>\n",
       "      <td>Raakesh Baala</td>\n",
       "      <td>Mullappally Productions</td>\n",
       "      <td>9.2</td>\n",
       "      <td>347</td>\n",
       "      <td>NaN</td>\n",
       "    </tr>\n",
       "    <tr>\n",
       "      <th>52407</th>\n",
       "      <td>tt10127546</td>\n",
       "      <td>National Theatre Live: The Lehman Trilogy</td>\n",
       "      <td>2019</td>\n",
       "      <td>Drama</td>\n",
       "      <td>223</td>\n",
       "      <td>UK</td>\n",
       "      <td>NaN</td>\n",
       "      <td>Sam Mendes</td>\n",
       "      <td>NaN</td>\n",
       "      <td>9.2</td>\n",
       "      <td>138</td>\n",
       "      <td>NaN</td>\n",
       "    </tr>\n",
       "    <tr>\n",
       "      <th>53698</th>\n",
       "      <td>tt10867504</td>\n",
       "      <td>Fan</td>\n",
       "      <td>2019</td>\n",
       "      <td>Drama</td>\n",
       "      <td>145</td>\n",
       "      <td>India</td>\n",
       "      <td>Kannada</td>\n",
       "      <td>Balavalli Darshith Bhat</td>\n",
       "      <td>SLN Cinemas</td>\n",
       "      <td>9.2</td>\n",
       "      <td>879</td>\n",
       "      <td>INR 20000000</td>\n",
       "    </tr>\n",
       "  </tbody>\n",
       "</table>\n",
       "</div>"
      ],
      "text/plain": [
       "      imdb_title_id                             original_title  year  \\\n",
       "84434     tt8571428                        Vaarthakal Ithuvare  2019   \n",
       "58809     tt1508669                              Hopeful Notes  2010   \n",
       "54166    tt11164090                        The Moving on Phase  2020   \n",
       "28453     tt0111161                   The Shawshank Redemption  1994   \n",
       "81109     tt6735740                           Love in Kilnerry  2019   \n",
       "76069     tt4897596                                  Digbhayam  2019   \n",
       "84623     tt8718580                                  Eghantham  2018   \n",
       "54313    tt11280912              Maarjaara Oru Kalluvacha Nuna  2020   \n",
       "52407    tt10127546  National Theatre Live: The Lehman Trilogy  2019   \n",
       "53698    tt10867504                                        Fan  2019   \n",
       "\n",
       "          genre  duration country   language                        director  \\\n",
       "84434    Comedy       121   India  Malayalam                      Manoj Nair   \n",
       "58809     Drama        94     USA    English                  Valerio Zanoli   \n",
       "54166    Comedy        85     USA    English                   Don Tjernagel   \n",
       "28453     Drama       142     USA    English                  Frank Darabont   \n",
       "81109    Comedy       100     USA    English  Daniel Keith, Snorri Sturluson   \n",
       "76069  Thriller       107   India    Kannada                           Amith   \n",
       "84623     Drama       125   India      Tamil                  Arsel Arumugam   \n",
       "54313     Drama       142   India  Malayalam                   Raakesh Baala   \n",
       "52407     Drama       223      UK        NaN                      Sam Mendes   \n",
       "53698     Drama       145   India    Kannada         Balavalli Darshith Bhat   \n",
       "\n",
       "              production_company  avg_vote    votes        budget  \n",
       "84434       Lawson Entertainment       9.7      473           NaN  \n",
       "58809               High Concept       9.7      669     $ 1500000  \n",
       "54166                        NaN       9.5      172           NaN  \n",
       "28453  Castle Rock Entertainment       9.3  2278845    $ 25000000  \n",
       "81109           Archway Pictures       9.3     1239     $ 3000000  \n",
       "76069        1234 Cine Creations       9.2      247  INR 12000000  \n",
       "84623        Annai Tamil Cinemas       9.2      644           NaN  \n",
       "54313    Mullappally Productions       9.2      347           NaN  \n",
       "52407                        NaN       9.2      138           NaN  \n",
       "53698                SLN Cinemas       9.2      879  INR 20000000  "
      ]
     },
     "execution_count": 15,
     "metadata": {},
     "output_type": "execute_result"
    }
   ],
   "source": [
    "# Your code here\n",
    "imdb_filtered.sort_values(\"avg_vote\", ascending=False).head(10)\n",
    "# checking the dateframe print on question 2.3 we could see the name of the column of  average vote to use here.\n",
    "# we use \"ascending=False\", to filter the first 10 results, otherwise, we will need to filter the last 10 results"
   ]
  },
  {
   "cell_type": "code",
   "execution_count": 32,
   "metadata": {
    "scrolled": true
   },
   "outputs": [
    {
     "name": "stdout",
     "output_type": "stream",
     "text": [
      "The 10 movies with the hightest average vote are the following: \n",
      "\n"
     ]
    },
    {
     "data": {
      "text/plain": [
       "84434                          Vaarthakal Ithuvare\n",
       "58809                                Hopeful Notes\n",
       "54166                          The Moving on Phase\n",
       "28453                     The Shawshank Redemption\n",
       "81109                             Love in Kilnerry\n",
       "76069                                    Digbhayam\n",
       "84623                                    Eghantham\n",
       "54313                Maarjaara Oru Kalluvacha Nuna\n",
       "52407    National Theatre Live: The Lehman Trilogy\n",
       "53698                                          Fan\n",
       "Name: original_title, dtype: object"
      ]
     },
     "execution_count": 32,
     "metadata": {},
     "output_type": "execute_result"
    }
   ],
   "source": [
    "# reply QUESTION 2.5\n",
    "print(\"The 10 movies with the hightest average vote are the following: \\n\")\n",
    "imdb_filtered.sort_values('avg_vote', ascending=False).head(10)['original_title']\n",
    "\n"
   ]
  },
  {
   "cell_type": "code",
   "execution_count": 74,
   "metadata": {},
   "outputs": [
    {
     "data": {
      "text/plain": [
       "58809                                Hopeful Notes\n",
       "84434                          Vaarthakal Ithuvare\n",
       "54166                          The Moving on Phase\n",
       "28453                     The Shawshank Redemption\n",
       "81109                             Love in Kilnerry\n",
       "52407    National Theatre Live: The Lehman Trilogy\n",
       "53698                                          Fan\n",
       "54313                Maarjaara Oru Kalluvacha Nuna\n",
       "76069                                    Digbhayam\n",
       "84623                                    Eghantham\n",
       "Name: original_title, dtype: object"
      ]
     },
     "execution_count": 74,
     "metadata": {},
     "output_type": "execute_result"
    }
   ],
   "source": [
    "#alternative way to get this result is to use nlargest:\n",
    "imdb_filtered.nlargest(10, 'avg_vote')['original_title']"
   ]
  },
  {
   "cell_type": "markdown",
   "metadata": {},
   "source": [
    "### Question 2.6"
   ]
  },
  {
   "cell_type": "markdown",
   "metadata": {},
   "source": [
    "---\n",
    "\n",
    "❓ What are the 10 production companies with the most movies? Plot this with a Matplotlib barchart."
   ]
  },
  {
   "cell_type": "code",
   "execution_count": 75,
   "metadata": {},
   "outputs": [
    {
     "name": "stdout",
     "output_type": "stream",
     "text": [
      "The 10 production companies with the most movies are the following: \n",
      "\n"
     ]
    },
    {
     "data": {
      "text/plain": [
       "Metro-Goldwyn-Mayer (MGM)    178\n",
       "Warner Bros.                 132\n",
       "Paramount Pictures           120\n",
       "Columbia Pictures            105\n",
       "Twentieth Century Fox         91\n",
       "RKO Radio Pictures            68\n",
       "Universal Pictures            66\n",
       "The Rank Organisation         48\n",
       "Canal+                        44\n",
       "First National Pictures       28\n",
       "Name: production_company, dtype: int64"
      ]
     },
     "execution_count": 75,
     "metadata": {},
     "output_type": "execute_result"
    }
   ],
   "source": [
    "# Your code here\n",
    "# reply QUESTION 2.5\n",
    "print(\"The 10 production companies with the most movies are the following: \\n\")\n",
    "imdb_filtered[\"production_company\"].value_counts().head(10) #dropna=False - if we want to count NaN- if we use this we will see that we have many rows without production company information"
   ]
  },
  {
   "cell_type": "code",
   "execution_count": 76,
   "metadata": {},
   "outputs": [
    {
     "data": {
      "image/png": "[encoded data removed]",
      "text/plain": [
       "<Figure size 432x288 with 1 Axes>"
      ]
     },
     "metadata": {
      "needs_background": "light"
     },
     "output_type": "display_data"
    }
   ],
   "source": [
    "imdb_filtered[\"production_company\"].value_counts().head(10).plot(kind=\"bar\", rot=80, alpha=0.55, title=\"The TOP 10 of production companies with the most movies\") # added rot to slant a little the axes x label. and added alpha, to give some transparency to the the bar colors\n",
    "plt.ylabel(\"Total of movies\")\n",
    "plt.show()"
   ]
  },
  {
   "cell_type": "code",
   "execution_count": 77,
   "metadata": {},
   "outputs": [
    {
     "data": {
      "image/png": "[encoded data removed]",
      "text/plain": [
       "<Figure size 432x288 with 1 Axes>"
      ]
     },
     "metadata": {
      "needs_background": "light"
     },
     "output_type": "display_data"
    }
   ],
   "source": [
    "#in my opinion it will be better to use the following alternative with horizontal bars:\n",
    "imdb_filtered[\"production_company\"].value_counts().head(10).plot(kind=\"barh\", alpha=0.55, title=\"The TOP 10 of production companies with the most movies\") # added rot to slant a little the axes x label. and added alpha, to give some transparency to the the bar colors\n",
    "plt.xlabel(\"Total of movies\")\n",
    "plt.show()"
   ]
  },
  {
   "cell_type": "markdown",
   "metadata": {},
   "source": [
    "### Question 2.7"
   ]
  },
  {
   "cell_type": "markdown",
   "metadata": {},
   "source": [
    "---\n",
    "\n",
    "❓ Elaborate on the distribution of the average vote. Take advantage of the Seaborn Distplot to answer to this!"
   ]
  },
  {
   "cell_type": "code",
   "execution_count": 89,
   "metadata": {},
   "outputs": [
    {
     "data": {
      "image/png": "[encoded data removed]",
      "text/plain": [
       "<Figure size 432x288 with 1 Axes>"
      ]
     },
     "metadata": {
      "needs_background": "light"
     },
     "output_type": "display_data"
    }
   ],
   "source": [
    "# Your code here\n",
    "#sns.distplot(imdb_filtered['avg_vote']) #-> attending the warning, instead this distplot, \n",
    "#plt.show() #-> we will use histplot with following arguments, and result'll be the same\n",
    "           \n",
    "sns.histplot(imdb_filtered['avg_vote'],  kde=True, stat=\"density\", linewidth=0)\n",
    "plt.show()"
   ]
  },
  {
   "cell_type": "markdown",
   "metadata": {},
   "source": [
    "Based on this histogram, we can conclude that:\n",
    "* average vote has a normal distribution. \n",
    "* the most common average votes are around 6.\n"
   ]
  },
  {
   "cell_type": "markdown",
   "metadata": {},
   "source": [
    "### Question 2.8"
   ]
  },
  {
   "cell_type": "markdown",
   "metadata": {},
   "source": [
    "---\n",
    "\n",
    "❓ What are the most common genres in each country? Elaborate and plot this with a Seaborn countplot."
   ]
  },
  {
   "cell_type": "code",
   "execution_count": 106,
   "metadata": {
    "scrolled": true
   },
   "outputs": [
    {
     "data": {
      "text/plain": [
       "<AxesSubplot:xlabel='country', ylabel='count'>"
      ]
     },
     "execution_count": 106,
     "metadata": {},
     "output_type": "execute_result"
    },
    {
     "data": {
      "image/png": "[encoded data removed]",
      "text/plain": [
       "<Figure size 432x288 with 1 Axes>"
      ]
     },
     "metadata": {
      "needs_background": "light"
     },
     "output_type": "display_data"
    }
   ],
   "source": [
    "# Your code here\n",
    "sns.countplot(data=imdb_filtered, x=\"country\", hue=\"genre\")"
   ]
  },
  {
   "cell_type": "markdown",
   "metadata": {},
   "source": [
    "Based on this graphic we can conclude that the most common genre in each of this 6 country, is Drama.\n"
   ]
  },
  {
   "cell_type": "code",
   "execution_count": 108,
   "metadata": {},
   "outputs": [
    {
     "ename": "ValueError",
     "evalue": "Grouper for 'genre' not 1-dimensional",
     "output_type": "error",
     "traceback": [
      "\u001b[0;31m---------------------------------------------------------------------------\u001b[0m",
      "\u001b[0;31mValueError\u001b[0m                                Traceback (most recent call last)",
      "\u001b[0;32m<ipython-input-108-c159400aa8dd>\u001b[0m in \u001b[0;36m<module>\u001b[0;34m\u001b[0m\n\u001b[0;32m----> 1\u001b[0;31m \u001b[0mimdb_filtered\u001b[0m\u001b[0;34m.\u001b[0m\u001b[0mpivot_table\u001b[0m\u001b[0;34m(\u001b[0m\u001b[0mcolumns\u001b[0m\u001b[0;34m=\u001b[0m\u001b[0;34m\"genre\"\u001b[0m\u001b[0;34m,\u001b[0m \u001b[0mvalues\u001b[0m\u001b[0;34m=\u001b[0m\u001b[0;34m\"genre\"\u001b[0m\u001b[0;34m,\u001b[0m \u001b[0mindex\u001b[0m\u001b[0;34m=\u001b[0m \u001b[0;34m\"country\"\u001b[0m\u001b[0;34m,\u001b[0m\u001b[0maggfunc\u001b[0m\u001b[0;34m=\u001b[0m\u001b[0mlen\u001b[0m\u001b[0;34m,\u001b[0m \u001b[0mfill_value\u001b[0m\u001b[0;34m=\u001b[0m\u001b[0;36m0\u001b[0m\u001b[0;34m)\u001b[0m \u001b[0;31m# to see the total of each genre per country\u001b[0m\u001b[0;34m\u001b[0m\u001b[0;34m\u001b[0m\u001b[0m\n\u001b[0m",
      "\u001b[0;32m~/opt/anaconda3/lib/python3.8/site-packages/pandas/core/frame.py\u001b[0m in \u001b[0;36mpivot_table\u001b[0;34m(self, values, index, columns, aggfunc, fill_value, margins, dropna, margins_name, observed)\u001b[0m\n\u001b[1;32m   7029\u001b[0m         \u001b[0;32mfrom\u001b[0m \u001b[0mpandas\u001b[0m\u001b[0;34m.\u001b[0m\u001b[0mcore\u001b[0m\u001b[0;34m.\u001b[0m\u001b[0mreshape\u001b[0m\u001b[0;34m.\u001b[0m\u001b[0mpivot\u001b[0m \u001b[0;32mimport\u001b[0m \u001b[0mpivot_table\u001b[0m\u001b[0;34m\u001b[0m\u001b[0;34m\u001b[0m\u001b[0m\n\u001b[1;32m   7030\u001b[0m \u001b[0;34m\u001b[0m\u001b[0m\n\u001b[0;32m-> 7031\u001b[0;31m         return pivot_table(\n\u001b[0m\u001b[1;32m   7032\u001b[0m             \u001b[0mself\u001b[0m\u001b[0;34m,\u001b[0m\u001b[0;34m\u001b[0m\u001b[0;34m\u001b[0m\u001b[0m\n\u001b[1;32m   7033\u001b[0m             \u001b[0mvalues\u001b[0m\u001b[0;34m=\u001b[0m\u001b[0mvalues\u001b[0m\u001b[0;34m,\u001b[0m\u001b[0;34m\u001b[0m\u001b[0;34m\u001b[0m\u001b[0m\n",
      "\u001b[0;32m~/opt/anaconda3/lib/python3.8/site-packages/pandas/core/reshape/pivot.py\u001b[0m in \u001b[0;36mpivot_table\u001b[0;34m(data, values, index, columns, aggfunc, fill_value, margins, dropna, margins_name, observed)\u001b[0m\n\u001b[1;32m    110\u001b[0m         \u001b[0mvalues\u001b[0m \u001b[0;34m=\u001b[0m \u001b[0mlist\u001b[0m\u001b[0;34m(\u001b[0m\u001b[0mvalues\u001b[0m\u001b[0;34m)\u001b[0m\u001b[0;34m\u001b[0m\u001b[0;34m\u001b[0m\u001b[0m\n\u001b[1;32m    111\u001b[0m \u001b[0;34m\u001b[0m\u001b[0m\n\u001b[0;32m--> 112\u001b[0;31m     \u001b[0mgrouped\u001b[0m \u001b[0;34m=\u001b[0m \u001b[0mdata\u001b[0m\u001b[0;34m.\u001b[0m\u001b[0mgroupby\u001b[0m\u001b[0;34m(\u001b[0m\u001b[0mkeys\u001b[0m\u001b[0;34m,\u001b[0m \u001b[0mobserved\u001b[0m\u001b[0;34m=\u001b[0m\u001b[0mobserved\u001b[0m\u001b[0;34m)\u001b[0m\u001b[0;34m\u001b[0m\u001b[0;34m\u001b[0m\u001b[0m\n\u001b[0m\u001b[1;32m    113\u001b[0m     \u001b[0magged\u001b[0m \u001b[0;34m=\u001b[0m \u001b[0mgrouped\u001b[0m\u001b[0;34m.\u001b[0m\u001b[0magg\u001b[0m\u001b[0;34m(\u001b[0m\u001b[0maggfunc\u001b[0m\u001b[0;34m)\u001b[0m\u001b[0;34m\u001b[0m\u001b[0;34m\u001b[0m\u001b[0m\n\u001b[1;32m    114\u001b[0m     \u001b[0;32mif\u001b[0m \u001b[0mdropna\u001b[0m \u001b[0;32mand\u001b[0m \u001b[0misinstance\u001b[0m\u001b[0;34m(\u001b[0m\u001b[0magged\u001b[0m\u001b[0;34m,\u001b[0m \u001b[0mABCDataFrame\u001b[0m\u001b[0;34m)\u001b[0m \u001b[0;32mand\u001b[0m \u001b[0mlen\u001b[0m\u001b[0;34m(\u001b[0m\u001b[0magged\u001b[0m\u001b[0;34m.\u001b[0m\u001b[0mcolumns\u001b[0m\u001b[0;34m)\u001b[0m\u001b[0;34m:\u001b[0m\u001b[0;34m\u001b[0m\u001b[0;34m\u001b[0m\u001b[0m\n",
      "\u001b[0;32m~/opt/anaconda3/lib/python3.8/site-packages/pandas/core/frame.py\u001b[0m in \u001b[0;36mgroupby\u001b[0;34m(self, by, axis, level, as_index, sort, group_keys, squeeze, observed, dropna)\u001b[0m\n\u001b[1;32m   6715\u001b[0m         \u001b[0maxis\u001b[0m \u001b[0;34m=\u001b[0m \u001b[0mself\u001b[0m\u001b[0;34m.\u001b[0m\u001b[0m_get_axis_number\u001b[0m\u001b[0;34m(\u001b[0m\u001b[0maxis\u001b[0m\u001b[0;34m)\u001b[0m\u001b[0;34m\u001b[0m\u001b[0;34m\u001b[0m\u001b[0m\n\u001b[1;32m   6716\u001b[0m \u001b[0;34m\u001b[0m\u001b[0m\n\u001b[0;32m-> 6717\u001b[0;31m         return DataFrameGroupBy(\n\u001b[0m\u001b[1;32m   6718\u001b[0m             \u001b[0mobj\u001b[0m\u001b[0;34m=\u001b[0m\u001b[0mself\u001b[0m\u001b[0;34m,\u001b[0m\u001b[0;34m\u001b[0m\u001b[0;34m\u001b[0m\u001b[0m\n\u001b[1;32m   6719\u001b[0m             \u001b[0mkeys\u001b[0m\u001b[0;34m=\u001b[0m\u001b[0mby\u001b[0m\u001b[0;34m,\u001b[0m\u001b[0;34m\u001b[0m\u001b[0;34m\u001b[0m\u001b[0m\n",
      "\u001b[0;32m~/opt/anaconda3/lib/python3.8/site-packages/pandas/core/groupby/groupby.py\u001b[0m in \u001b[0;36m__init__\u001b[0;34m(self, obj, keys, axis, level, grouper, exclusions, selection, as_index, sort, group_keys, squeeze, observed, mutated, dropna)\u001b[0m\n\u001b[1;32m    558\u001b[0m             \u001b[0;32mfrom\u001b[0m \u001b[0mpandas\u001b[0m\u001b[0;34m.\u001b[0m\u001b[0mcore\u001b[0m\u001b[0;34m.\u001b[0m\u001b[0mgroupby\u001b[0m\u001b[0;34m.\u001b[0m\u001b[0mgrouper\u001b[0m \u001b[0;32mimport\u001b[0m \u001b[0mget_grouper\u001b[0m\u001b[0;34m\u001b[0m\u001b[0;34m\u001b[0m\u001b[0m\n\u001b[1;32m    559\u001b[0m \u001b[0;34m\u001b[0m\u001b[0m\n\u001b[0;32m--> 560\u001b[0;31m             grouper, exclusions, obj = get_grouper(\n\u001b[0m\u001b[1;32m    561\u001b[0m                 \u001b[0mobj\u001b[0m\u001b[0;34m,\u001b[0m\u001b[0;34m\u001b[0m\u001b[0;34m\u001b[0m\u001b[0m\n\u001b[1;32m    562\u001b[0m                 \u001b[0mkeys\u001b[0m\u001b[0;34m,\u001b[0m\u001b[0;34m\u001b[0m\u001b[0;34m\u001b[0m\u001b[0m\n",
      "\u001b[0;32m~/opt/anaconda3/lib/python3.8/site-packages/pandas/core/groupby/grouper.py\u001b[0m in \u001b[0;36mget_grouper\u001b[0;34m(obj, key, axis, level, sort, observed, mutated, validate, dropna)\u001b[0m\n\u001b[1;32m    826\u001b[0m         \u001b[0;31m# allow us to passing the actual Grouping as the gpr\u001b[0m\u001b[0;34m\u001b[0m\u001b[0;34m\u001b[0m\u001b[0;34m\u001b[0m\u001b[0m\n\u001b[1;32m    827\u001b[0m         ping = (\n\u001b[0;32m--> 828\u001b[0;31m             Grouping(\n\u001b[0m\u001b[1;32m    829\u001b[0m                 \u001b[0mgroup_axis\u001b[0m\u001b[0;34m,\u001b[0m\u001b[0;34m\u001b[0m\u001b[0;34m\u001b[0m\u001b[0m\n\u001b[1;32m    830\u001b[0m                 \u001b[0mgpr\u001b[0m\u001b[0;34m,\u001b[0m\u001b[0;34m\u001b[0m\u001b[0;34m\u001b[0m\u001b[0m\n",
      "\u001b[0;32m~/opt/anaconda3/lib/python3.8/site-packages/pandas/core/groupby/grouper.py\u001b[0m in \u001b[0;36m__init__\u001b[0;34m(self, index, grouper, obj, name, level, sort, observed, in_axis, dropna)\u001b[0m\n\u001b[1;32m    541\u001b[0m                 \u001b[0;32mif\u001b[0m \u001b[0mgetattr\u001b[0m\u001b[0;34m(\u001b[0m\u001b[0mself\u001b[0m\u001b[0;34m.\u001b[0m\u001b[0mgrouper\u001b[0m\u001b[0;34m,\u001b[0m \u001b[0;34m\"ndim\"\u001b[0m\u001b[0;34m,\u001b[0m \u001b[0;36m1\u001b[0m\u001b[0;34m)\u001b[0m \u001b[0;34m!=\u001b[0m \u001b[0;36m1\u001b[0m\u001b[0;34m:\u001b[0m\u001b[0;34m\u001b[0m\u001b[0;34m\u001b[0m\u001b[0m\n\u001b[1;32m    542\u001b[0m                     \u001b[0mt\u001b[0m \u001b[0;34m=\u001b[0m \u001b[0mself\u001b[0m\u001b[0;34m.\u001b[0m\u001b[0mname\u001b[0m \u001b[0;32mor\u001b[0m \u001b[0mstr\u001b[0m\u001b[0;34m(\u001b[0m\u001b[0mtype\u001b[0m\u001b[0;34m(\u001b[0m\u001b[0mself\u001b[0m\u001b[0;34m.\u001b[0m\u001b[0mgrouper\u001b[0m\u001b[0;34m)\u001b[0m\u001b[0;34m)\u001b[0m\u001b[0;34m\u001b[0m\u001b[0;34m\u001b[0m\u001b[0m\n\u001b[0;32m--> 543\u001b[0;31m                     \u001b[0;32mraise\u001b[0m \u001b[0mValueError\u001b[0m\u001b[0;34m(\u001b[0m\u001b[0;34mf\"Grouper for '{t}' not 1-dimensional\"\u001b[0m\u001b[0;34m)\u001b[0m\u001b[0;34m\u001b[0m\u001b[0;34m\u001b[0m\u001b[0m\n\u001b[0m\u001b[1;32m    544\u001b[0m                 \u001b[0mself\u001b[0m\u001b[0;34m.\u001b[0m\u001b[0mgrouper\u001b[0m \u001b[0;34m=\u001b[0m \u001b[0mself\u001b[0m\u001b[0;34m.\u001b[0m\u001b[0mindex\u001b[0m\u001b[0;34m.\u001b[0m\u001b[0mmap\u001b[0m\u001b[0;34m(\u001b[0m\u001b[0mself\u001b[0m\u001b[0;34m.\u001b[0m\u001b[0mgrouper\u001b[0m\u001b[0;34m)\u001b[0m\u001b[0;34m\u001b[0m\u001b[0;34m\u001b[0m\u001b[0m\n\u001b[1;32m    545\u001b[0m                 if not (\n",
      "\u001b[0;31mValueError\u001b[0m: Grouper for 'genre' not 1-dimensional"
     ]
    }
   ],
   "source": [
    "\n",
    "imdb_filtered.pivot_table(columns=\"genre\", values=\"genre\", index= \"country\",aggfunc=len, fill_value=0) # to see the total of each genre per country"
   ]
  },
  {
   "cell_type": "markdown",
   "metadata": {
    "heading_collapsed": true
   },
   "source": [
    "### Question 2.9"
   ]
  },
  {
   "cell_type": "markdown",
   "metadata": {
    "hidden": true
   },
   "source": [
    "---\n",
    "\n",
    "❓ What is the influence of the country on the duration of the movies? Take advantage of a Seaborn violin or box plot to answer this. Elaborate."
   ]
  },
  {
   "cell_type": "code",
   "execution_count": 20,
   "metadata": {
    "hidden": true
   },
   "outputs": [],
   "source": [
    "# Your code here"
   ]
  },
  {
   "cell_type": "markdown",
   "metadata": {},
   "source": [
    "### Question 2.10"
   ]
  },
  {
   "cell_type": "markdown",
   "metadata": {},
   "source": [
    "---\n",
    "\n",
    "❓ How does the distribution of the average vote differ based on the genre? Elaborate."
   ]
  },
  {
   "cell_type": "code",
   "execution_count": 21,
   "metadata": {},
   "outputs": [],
   "source": [
    "# Your code here"
   ]
  },
  {
   "cell_type": "markdown",
   "metadata": {},
   "source": [
    "### Question 2.11"
   ]
  },
  {
   "cell_type": "markdown",
   "metadata": {},
   "source": [
    "---\n",
    "\n",
    "❓How many movies have no data regarding their budget (i.e. the budget is NaN)? Store the result in a variable called **total_movies_without_budget**."
   ]
  },
  {
   "cell_type": "code",
   "execution_count": 22,
   "metadata": {},
   "outputs": [],
   "source": [
    "# Your code here"
   ]
  },
  {
   "cell_type": "markdown",
   "metadata": {},
   "source": [
    "### Question 2.12"
   ]
  },
  {
   "cell_type": "markdown",
   "metadata": {},
   "source": [
    "---\n",
    "\n",
    "❓ What is the % of movies that have no data regarding their budget? \n",
    "\n",
    "**Hint:** Remember that you have created the *total_movie_number* and *total_movies_without_budget* variables in previous questions! "
   ]
  },
  {
   "cell_type": "code",
   "execution_count": 23,
   "metadata": {},
   "outputs": [],
   "source": [
    "# Your code here"
   ]
  },
  {
   "cell_type": "markdown",
   "metadata": {},
   "source": [
    "### Question 2.13"
   ]
  },
  {
   "cell_type": "markdown",
   "metadata": {},
   "source": [
    "---\n",
    "\n",
    "❓ Since the sample size of movies with budget information is still big, we can select only movies with information regarding their budget to conduct some exploratory analysis based on this data. \n",
    "\n",
    "Create a new dataframe called **movies_with_budget** which contains only movies with information regarding their budget.\n",
    "\n",
    "**Hint:** To find movies in which the data regarding their budget is **NOT** NaN you might apply the <a href=\"https://pandas.pydata.org/pandas-docs/stable/reference/api/pandas.DataFrame.notnull.html\"><code>pandas.DataFrame.notnull()</code></a>  method, which is the opposite of the <a href=\"https://pandas.pydata.org/pandas-docs/stable/reference/api/pandas.DataFrame.isnull.html\"><code>pandas.DataFrame.isnull()</code></a> method."
   ]
  },
  {
   "cell_type": "code",
   "execution_count": 24,
   "metadata": {},
   "outputs": [],
   "source": [
    "# Your code here"
   ]
  },
  {
   "cell_type": "markdown",
   "metadata": {},
   "source": [
    "At the moment the **budget** column is a string. To conduct EDA related to the budget it is necessary to convert this variable into a float. Also, for comparison purposes we need to select only movies that have the same currency type. \n",
    "\n",
    "Run the following code to filter only movies for which the budget is in USD ($): "
   ]
  },
  {
   "cell_type": "code",
   "execution_count": 25,
   "metadata": {},
   "outputs": [
    {
     "ename": "NameError",
     "evalue": "name 'movies_with_budget' is not defined",
     "output_type": "error",
     "traceback": [
      "\u001b[0;31m---------------------------------------------------------------------------\u001b[0m",
      "\u001b[0;31mNameError\u001b[0m                                 Traceback (most recent call last)",
      "\u001b[0;32m<ipython-input-25-7df53cc11051>\u001b[0m in \u001b[0;36m<module>\u001b[0;34m\u001b[0m\n\u001b[0;32m----> 1\u001b[0;31m \u001b[0mmovies_with_budget\u001b[0m\u001b[0;34m[\u001b[0m\u001b[0;34m\"budget_in_usd\"\u001b[0m\u001b[0;34m]\u001b[0m\u001b[0;34m=\u001b[0m\u001b[0mmovies_with_budget\u001b[0m\u001b[0;34m[\u001b[0m\u001b[0;34m\"budget\"\u001b[0m\u001b[0;34m]\u001b[0m\u001b[0;34m.\u001b[0m\u001b[0mapply\u001b[0m\u001b[0;34m(\u001b[0m\u001b[0;32mlambda\u001b[0m \u001b[0mrow\u001b[0m\u001b[0;34m:\u001b[0m \u001b[0mrow\u001b[0m\u001b[0;34m[\u001b[0m\u001b[0;36m0\u001b[0m\u001b[0;34m]\u001b[0m\u001b[0;34m==\u001b[0m\u001b[0;34m\"$\"\u001b[0m\u001b[0;34m)\u001b[0m\u001b[0;34m\u001b[0m\u001b[0;34m\u001b[0m\u001b[0m\n\u001b[0m\u001b[1;32m      2\u001b[0m \u001b[0;31m# creates a column \"budget_in_usd\" with information on whether budget is in USD\u001b[0m\u001b[0;34m\u001b[0m\u001b[0;34m\u001b[0m\u001b[0;34m\u001b[0m\u001b[0m\n\u001b[1;32m      3\u001b[0m \u001b[0;34m\u001b[0m\u001b[0m\n\u001b[1;32m      4\u001b[0m \u001b[0mmovies_with_budget_in_usd\u001b[0m \u001b[0;34m=\u001b[0m \u001b[0mmovies_with_budget\u001b[0m\u001b[0;34m[\u001b[0m\u001b[0mmovies_with_budget\u001b[0m\u001b[0;34m[\u001b[0m\u001b[0;34m\"budget_in_usd\"\u001b[0m\u001b[0;34m]\u001b[0m \u001b[0;34m==\u001b[0m \u001b[0;32mTrue\u001b[0m\u001b[0;34m]\u001b[0m\u001b[0;34m\u001b[0m\u001b[0;34m\u001b[0m\u001b[0m\n\u001b[1;32m      5\u001b[0m \u001b[0;31m# creates a dataframe \"movies_with_budget_in_usd\" with movies for which the budget is in USD\u001b[0m\u001b[0;34m\u001b[0m\u001b[0;34m\u001b[0m\u001b[0;34m\u001b[0m\u001b[0m\n",
      "\u001b[0;31mNameError\u001b[0m: name 'movies_with_budget' is not defined"
     ]
    }
   ],
   "source": [
    "movies_with_budget[\"budget_in_usd\"]=movies_with_budget[\"budget\"].apply(lambda row: row[0]==\"$\") \n",
    "# creates a column \"budget_in_usd\" with information on whether budget is in USD\n",
    "\n",
    "movies_with_budget_in_usd = movies_with_budget[movies_with_budget[\"budget_in_usd\"] == True]\n",
    "# creates a dataframe \"movies_with_budget_in_usd\" with movies for which the budget is in USD "
   ]
  },
  {
   "cell_type": "markdown",
   "metadata": {},
   "source": [
    "Run the following code to transform the **budget** column from a string to a float:"
   ]
  },
  {
   "cell_type": "code",
   "execution_count": null,
   "metadata": {
    "scrolled": true
   },
   "outputs": [],
   "source": [
    "movies_with_budget_in_usd[\"budget\"] = movies_with_budget_in_usd[\"budget\"].apply(lambda row: row[1:])\n",
    "# iterates over all values of the budget column and removes the 3 first character that always stand for the EUR code\n",
    "\n",
    "movies_with_budget_in_usd[\"budget\"] = movies_with_budget_in_usd[\"budget\"].astype('float')\n",
    "# converts all values within the budget column from string to float"
   ]
  },
  {
   "cell_type": "markdown",
   "metadata": {},
   "source": [
    "### Question 2.14"
   ]
  },
  {
   "cell_type": "markdown",
   "metadata": {},
   "source": [
    "\n",
    "\n",
    "❓ How is the relationship between the columns `budget` and `avg_vote`? Elaborate. \n",
    "\n",
    "**Don't forget that you should use the *movies_with_budget_in_usd* DataFrame for this exercise!**\n",
    "\n",
    "\n",
    "**Hint:** Use [`seaborn.lmplot`](https://seaborn.pydata.org/generated/seaborn.lmplot.html) to graphically read a linear correlation between two columns:"
   ]
  },
  {
   "cell_type": "code",
   "execution_count": null,
   "metadata": {},
   "outputs": [],
   "source": [
    "# Your code here"
   ]
  },
  {
   "cell_type": "markdown",
   "metadata": {},
   "source": [
    "### Question 2.15"
   ]
  },
  {
   "cell_type": "markdown",
   "metadata": {},
   "source": [
    "❓ Now it is time for you to show us your creativity. Find some other relevant question that can be answered with data from the **imdb_filtered** DataFrame and develop a response for this question! \n"
   ]
  },
  {
   "cell_type": "code",
   "execution_count": null,
   "metadata": {},
   "outputs": [],
   "source": [
    "# Your code here"
   ]
  },
  {
   "cell_type": "markdown",
   "metadata": {},
   "source": [
    "## Question 3 - Web Scraping"
   ]
  },
  {
   "cell_type": "markdown",
   "metadata": {},
   "source": [
    "Let's test your Web Scraping skills!  \n",
    "\n",
    "Start by getting the HTML from the Books to Scrape webpage parsed by running the two following cells:"
   ]
  },
  {
   "cell_type": "code",
   "execution_count": null,
   "metadata": {},
   "outputs": [],
   "source": [
    "import requests\n",
    "from bs4 import BeautifulSoup"
   ]
  },
  {
   "cell_type": "code",
   "execution_count": null,
   "metadata": {},
   "outputs": [],
   "source": [
    "url = \"http://books.toscrape.com/\" # define the URL of the webpage we want to parse\n",
    "response = requests.get(url) # request HTML  \n",
    "html = response.content # get HTML as text\n",
    "scraped = BeautifulSoup(html,'html.parser') # parse HTML"
   ]
  },
  {
   "cell_type": "markdown",
   "metadata": {},
   "source": [
    "### Question 3.1"
   ]
  },
  {
   "cell_type": "markdown",
   "metadata": {},
   "source": [
    "❓ Get the title of webpage scraped above. Only get the text within the title element and do not forget to clean any invisible characters that it might contain!\n",
    "\n",
    "**Hint:** Remember that the HTML of this webpage has been parsed into the variable **scraped**!"
   ]
  },
  {
   "cell_type": "code",
   "execution_count": null,
   "metadata": {},
   "outputs": [],
   "source": [
    "# Your code here"
   ]
  },
  {
   "cell_type": "markdown",
   "metadata": {},
   "source": [
    "### Question 3.2"
   ]
  },
  {
   "cell_type": "markdown",
   "metadata": {},
   "source": [
    "❓ Show us what you have learned until now and scrape a content of your choice from the Books to Scrape webpage."
   ]
  },
  {
   "cell_type": "code",
   "execution_count": null,
   "metadata": {},
   "outputs": [],
   "source": [
    "# Your code here"
   ]
  }
 ],
 "metadata": {
  "kernelspec": {
   "display_name": "Python 3",
   "language": "python",
   "name": "python3"
  },
  "language_info": {
   "codemirror_mode": {
    "name": "ipython",
    "version": 3
   },
   "file_extension": ".py",
   "mimetype": "text/x-python",
   "name": "python",
   "nbconvert_exporter": "python",
   "pygments_lexer": "ipython3",
   "version": "3.8.8"
  },
  "toc": {
   "base_numbering": 1,
   "nav_menu": {},
   "number_sections": true,
   "sideBar": true,
   "skip_h1_title": true,
   "title_cell": "Table of Contents",
   "title_sidebar": "Contents",
   "toc_cell": false,
   "toc_position": {},
   "toc_section_display": true,
   "toc_window_display": false
  }
 },
 "nbformat": 4,
 "nbformat_minor": 4
}
